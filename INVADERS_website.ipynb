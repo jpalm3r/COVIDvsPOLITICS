{
 "cells": [
  {
   "cell_type": "markdown",
   "metadata": {},
   "source": [
    "# Introduction \n",
    " \n",
    "Despite the feeling that COVID-19 paralyzed the world, the pandemic itself has been far from still. The spread of the virus has taken many forms, which raised many questions: what is going on in Wuhan? What is going in Italy? How long will the lockdown last? Are masks effective? Which company is making the vaccine?\n",
    "\n",
    "The urgency of such topics has modified our discussions and the way we discuss them. This raised a very simple question: do different people discuss COVID related topics differently? Specifically, do political beliefs affect COVID discussion?\n",
    "Maybe our intuition (and prejudices?) have an answer to that question. Still, this work intends to quantify and visualize if such political bias exists.\n",
    "\n",
    "In order to check it, we have used data from __[Reddit](www.reddit.com)__, given its openness and community-based structure. First, the r/Coronavirus community was analyzed to identify the most relevant COVID-related topics. Afterwards, these topics has been analyzed in mainstream political communities to evaluate if there are differences in their usage.\n"
   ]
  },
  {
   "cell_type": "markdown",
   "metadata": {},
   "source": [
    "# A grim trip down memory lane\n",
    "\n",
    "The year 2020 will be forever linked to the pandemic. The virus started to globally spread during January, and by December the first people started to get vaccinated. Thus, 2020 encapsulates most of the major breakthroughs and controversies that defined COVID-19. For this reason, this work has focused only on using data from this strange year. \n",
    "\n",
    "To represent the major topics covid-related topics, 19 words have been selected from the corpus of all submission titles in the [r/Coronavirus](www.reddit.com/r/coronavirus) community. These words are the most used words during the year of study and the infamous bunch is:\n",
    "\n",
    "<span></span> \n",
    "<span style=\"background:#820872;color:white;font-weight:bold;font-size:14pt\">\n",
    "China, confirm, death, die, health, hospit, infect, lockdown, mask, outbreak, pandem, patient, posit, record, report, spread, studi, test, vaccin.\n",
    "</span>    \n",
    "\n",
    "<span></span> \n",
    "<span style=\"background:yellow;color:black\">\n",
    "    (!!!) Notice that the words are <span style=\"font-style:italic\">stemmed</span>.\n",
    "</span>\n",
    "\n",
    "\n",
    "They range from little surprising to not surprising at all. However, seeing all of them together they appear as a foggy cloud of concepts. Checking them individually helps to untangle them and sets a timeline that, probably, all of us remember well.\n",
    "\n",
    "__CALENDAR PLOT__\n",
    "\n",
    "Throughout the year, the relative importance of each topic changed as we were collectively adapting and overcoming new challenges. This can be easily seen by cheking the weekly use of each word compared to the rest.\n",
    "\n",
    "__RANKING PLOT__\n",
    "\n",
    "There are clashes worth checking:\n",
    "\n",
    "- The take over of <span style=\"background:#820872;color:white;font-weight:bold;font-size:12pt\">pandemic</span> over <span style=\"background:#820872;color:white;font-weight:bold;font-size:12pt\">outbreak</span>\n",
    "- The inverse correlation between <span style=\"background:#820872;color:white;font-weight:bold;font-size:12pt\">hospital</span>  and <span style=\"background:#820872;color:white;font-weight:bold;font-size:12pt\">lockdown</span> \n",
    "- The everpresence of the word <span style=\"background:#820872;color:white;font-weight:bold;font-size:12pt\">death</span> , despite the hopeful race upwards of <span style=\"background:#820872;color:white;font-weight:bold;font-size:12pt\">vaccine</span> \n"
   ]
  },
  {
   "cell_type": "markdown",
   "metadata": {},
   "source": [
    "# Inside the political communities\n",
    "\n",
    "Given that __Reddit__ is a US-based website, this study has focused to US political communities. So, in order to check differences in political discussion we have focused on two communities dedicated to the two major US political parties: <a href=\"http://www.reddit.com/r/republican\"><span style=\"background:#EC080E;color:white;font-weight:bold;font-size:12pt\"> r/republican </span></a> and <a href=\"http://www.reddit.com/r/republican\"><span style=\"background:#1C81D5;color:white;font-weight:bold;font-size:12pt\"> r/democrats </span></a>.\n",
    "\n",
    "\n",
    "These aforementioned covid-words represent a landscape of topics that were discussed in the official media. However, the reactions that they caused might have been different depending on the communities where they were discussed on. To sort this out, the following section compares the usage of the 19 covid-words in the <u>comment</u> sections of the two political subreddits.\n",
    "\n",
    "First of all, an easy check: the total use of the 19 corona words.\n",
    "\n",
    "__CORONA FOOTPRINT__\n",
    "\n",
    "Already looks like the words were used more in the republican category; still, the size is comparable in both. \n",
    "We can check the total volume of each word to have a better picture of the differences between both communities.\n",
    "\n",
    "__LEGEND WORDS__\n",
    "\n",
    "\n",
    "__WORDS BY COMMUNITY__\n",
    "\n",
    "Neutral words, such as test and positive have comparable sizes, however some others (with more controversial undertones) show significant differences in their volumes.\n",
    "\n",
    "\n",
    "Controversy generates arguments. Typically, in such arguments, people will post longer comments to make sure that their point is carried accross. Are the comments that contain one word longer than others?\n",
    "\n",
    "__COMMENT LENGTH__\n",
    "\n",
    "It looks clear that the corona words tend to appear in longer comments. Focusing at each word in particular, there is no distinct differences between republican and democrat communities.\n",
    "\n",
    "But, how has the use of these words in each community changed over time? Each corona word had a different period of importance, did this translate it the same way inside the political communities?\n",
    "\n",
    "__SURGES TIMELINE__\n",
    "\n",
    "Many things to unpack:\n",
    "\n",
    "    - Surges across the board\n",
    "    - The surges propagate through time and disappear\n",
    "    - 9/11 and election day (with delay)\n"
   ]
  },
  {
   "cell_type": "markdown",
   "metadata": {},
   "source": [
    "# Mapping political bias\n",
    "\n",
    "All previous analysis suggests that there is a difference in how the words are treated in each case. The only thing that is left to do then, is quantify how much.\n",
    "\n",
    "\n",
    "__MAP__"
   ]
  }
 ],
 "metadata": {
  "kernelspec": {
   "display_name": "Python 3",
   "language": "python",
   "name": "python3"
  },
  "language_info": {
   "codemirror_mode": {
    "name": "ipython",
    "version": 3
   },
   "file_extension": ".py",
   "mimetype": "text/x-python",
   "name": "python",
   "nbconvert_exporter": "python",
   "pygments_lexer": "ipython3",
   "version": "3.7.6"
  }
 },
 "nbformat": 4,
 "nbformat_minor": 4
}
