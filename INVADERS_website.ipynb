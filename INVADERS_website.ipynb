{
 "cells": [
  {
   "cell_type": "markdown",
   "metadata": {},
   "source": [
    "<span style=\"font-weight:normal;font-size:32pt\">\n",
    "    INVADERS</span>"
   ]
  },
  {
   "cell_type": "markdown",
   "metadata": {},
   "source": [
    "# Introduction \n",
    " \n",
    "By the end of 2019 the SARS-CoV-2 virus strain emerged and developed into a global pandemic. Consequently, (virtually) all aspects of our lives were affected. However, despite the feeling that the virus paralyzed the world, the pandemic itself has been far from still. The spread of the virus has taken many forms, which raised many questions: what is going on in Wuhan? How long will the lockdown last? Are masks effective? Who is manufacturing the vaccines?\n",
    "\n",
    "The urgency of such topics has modified our discussions and the way we discuss them. This raised a very simple question: do different people discuss COVID related topics differently? Specifically, do political beliefs affect COVID discussion?\n",
    "\n",
    "Maybe our intuition (and prejudices) have an answer to that question. Still, this work intends to quantify and visualize if such political bias exists.\n",
    "\n",
    "For that, we have used data from __[Reddit](www.reddit.com)__, and analyzed post submissions and comments of key communities. Specifically, we identified key words that represent the topics and questions that the pandemic has raised. Afterwards, these topics have been analyzed in mainstream political communities to evaluate if there are differences in their usage.\n"
   ]
  },
  {
   "cell_type": "markdown",
   "metadata": {},
   "source": [
    "# A grim trip down memory lane\n",
    "\n",
    "The year 2020 will be forever linked to the pandemic. The virus started to globally spread during January, and by December the first people started to get vaccinated. Thus, 2020 encapsulates most of the major breakthroughs and controversies that defined COVID-19. For this reason, this work has focused only on using data from this strange year. \n",
    "\n",
    "To represent the major covid-related milestones during 2020, 19 words have been selected from the corpus of all submission titles in the [r/Coronavirus](www.reddit.com/r/coronavirus) community. The following group of infamous words$^{(1)}$ are the most used during 2020:\n",
    "\n",
    "<span></span> \n",
    "<span style=\"background:#820872;color:white;font-weight:bold;font-size:14pt\">\n",
    "China, confirm, death, die, health, hospit, infect, lockdown, mask, outbreak, pandem, patient, posit, record, report, spread, studi, test, vaccin.\n",
    "</span>    \n",
    "\n",
    "<span></span> \n",
    "<span style=\"background:yellow;color:black\">\n",
    "    (1) Notice that the words are <span style=\"font-style:italic\">stemmed</span>.\n",
    "</span>\n",
    "\n",
    "They range from little surprising to not surprising at all. However, looking at all of them together, they appear as a foggy cloud of concepts. Checking them individually helps to untangle them and sets a timeline that, probably, all of us remember well.\n",
    "\n",
    "__CALENDAR PLOT__\n",
    "\n",
    "Throughout the year, the relative importance of each topic changed as we were collectively adapting and overcoming new challenges. This can be easily seen by cheking the weekly use of each word compared to the rest:\n",
    "\n",
    "__RANKING PLOT__\n",
    "\n",
    "In the previous plot,the higher up a word appears, the more important it was during a given week. You can play around and check the evolution of them individually. Also, it is interesting to compare their evolution. As a starter, these are clashes worth checking:\n",
    "\n",
    "- The take over of <span style=\"background:#820872;color:white;font-weight:bold;font-size:12pt\">pandemic</span> over <span style=\"background:#820872;color:white;font-weight:bold;font-size:12pt\">outbreak</span>\n",
    "- The inverse correlation between <span style=\"background:#820872;color:white;font-weight:bold;font-size:12pt\">hospital</span>  and <span style=\"background:#820872;color:white;font-weight:bold;font-size:12pt\">lockdown</span> \n",
    "- The everpresence of the word <span style=\"background:#820872;color:white;font-weight:bold;font-size:12pt\">death</span> , despite the hopeful race upwards of <span style=\"background:#820872;color:white;font-weight:bold;font-size:12pt\">vaccine</span> \n"
   ]
  },
  {
   "cell_type": "markdown",
   "metadata": {},
   "source": [
    "# Inside the political communities\n",
    "\n",
    "\n",
    "The presented covid-words describe a landscape of topics that were discussed in the official media. However, the reactions that they caused might have been different depending on the communities where they were discussed on. To sort this out, the following section compares the usage of the 19 words in the <u>comment</u> sections of major political subreddits.\n",
    "\n",
    "Given that __Reddit__ is a US-based website, this study has focused to US political communities. So, in order to check differences in political discussion we have focused on two communities dedicated to the two major US political parties: <a href=\"http://www.reddit.com/r/republican\"><span style=\"background:#EC080E;color:white;font-weight:bold;font-size:12pt\"> r/republican </span></a> and <a href=\"http://www.reddit.com/r/republican\"><span style=\"background:#1C81D5;color:white;font-weight:bold;font-size:12pt\"> r/democrats </span></a>.\n",
    "\n",
    "\n",
    "First of all, an easy check: the total use of the 19 corona words.\n",
    "\n",
    "__CORONA FOOTPRINT__\n",
    "\n",
    "It already looks like the words were used more in the republican category; still, the size is comparable in both.\n",
    "We can go a bit deeper by comparing the total volume$^(2)$ of each word in each political community. This gives us a better picture of what is causing the difference that we have seen in the previous figure.\n",
    "\n",
    "__LEGEND WORDS__\n",
    "\n",
    "\n",
    "__WORDS BY COMMUNITY__\n",
    "\n",
    "<span></span> \n",
    "<span style=\"background:yellow;color:black\">\n",
    "    (2) The words are normalized by the total number of comments in each community.\n",
    "</span>\n",
    "\n",
    "Notice that, neutral words, such as <span style=\"background:#820872;color:white;font-weight:bold;font-size:12pt\">test</span> and <span style=\"background:#820872;color:white;font-weight:bold;font-size:12pt\">positive</span> have comparable sizes. On the other hand, other words with more controversial undertones show significant differences in their volumes.\n",
    "\n",
    "\n",
    "It is clear that controversy generates arguments. \n",
    "\n",
    "Typically, in such arguments, people will post longer comments to make sure that their point is carried accross. Then, it is fair to ask oneself whether comments that are loaded with controversial words are longer than _unloaded_ comments.\n",
    "\n",
    "__COMMENT LENGTH__\n",
    "\n",
    "It looks clear that the corona words tend to appear in longer comments. Still, focusing on each particular word, there is no clear differences between republican and democrat communities.\n",
    "\n",
    "As we have seen above studying the [r/Coronaviurs](www.reddit.com/r/coronavirus) community, the volume of these 19 words changed with time, as the relevance of the topics they described shifted. Then, it might be interesting to study the frequency use of these words in the two political communities. \n",
    "\n",
    "However, <a href=\"http://www.reddit.com/r/republican\"><span style=\"background:#EC080E;color:white;font-weight:bold;font-size:12pt\"> r/republican </span></a> and <a href=\"http://www.reddit.com/r/republican\"><span style=\"background:#1C81D5;color:white;font-weight:bold;font-size:12pt\"> r/democrats </span></a>  are as broad as communities as politics can be, so covid-related discussion will be entangled with many other different topics. To clear the search, we focused on days when the use of covid-words was abnormally high, such that we mark with a &#11035; the days when each covid-word surged; the larger the &#11035;, the higher the surge.\n",
    "\n",
    "\n",
    "__SURGES TIMELINE__\n",
    "\n",
    "\n",
    "Notice that the surges propagate over time, given that they seldomly disappear after one day. Also, in general, they do not appear alone as one can see that when a word surges, so do many of the others. The triggers behind the surges is not known a priori, but we included different 2020 milestones to give temporal context, so we invite the reader to explore and come up with a reasonable explanation.\n"
   ]
  },
  {
   "cell_type": "markdown",
   "metadata": {},
   "source": [
    "# Mapping political bias\n",
    "\n",
    "The previous analysis suggests that there is a difference in how the words are treated in each political community. As we have seen, the use of each word depends: 1) on the specific word and 2) on the time it was used. Then, for an arbitrary month of 2020, we can compare the frequency of the different words in the two political communities such that we get something like this:\n",
    "\n",
    "__METRIC__\n",
    "\n",
    "If the usage of a word in <a href=\"http://www.reddit.com/r/republican\"><span style=\"background:#EC080E;color:white;font-weight:bold;font-size:12pt\"> r/republican </span></a> was similar to its use in <a href=\"http://www.reddit.com/r/republican\"><span style=\"background:#1C81D5;color:white;font-weight:bold;font-size:12pt\"> r/democrats </span></a>, then we would see a cloud of dots over a straight line at 45 degrees, but clearly that is not the case. If the dots are \"tilted\" towards one community's axis, then that word was systematically more used in that community.\n",
    "\n",
    "Then, the slope synthetizes the likeness of the use of a word during 2020 in both political communities. But these communities already existed before COVID hit. So, was the usage of these words \"normal\" or was indeed triggered by the pandemic. We measured this by measuring the ratio of the frequency of each word in 2019 and their frequency in 2020.\n",
    "\n",
    "Finally, these two metrics allowed us to have a map of the 19 words.\n",
    "\n",
    "\n",
    "__MAP__\n",
    "\n",
    "\n",
    "The map shows a clear bias towards the <a href=\"http://www.reddit.com/r/republican\"><span style=\"background:#EC080E;color:white;font-weight:bold;font-size:12pt\"> r/republican </span></a> community."
   ]
  }
 ],
 "metadata": {
  "kernelspec": {
   "display_name": "Python 3",
   "language": "python",
   "name": "python3"
  },
  "language_info": {
   "codemirror_mode": {
    "name": "ipython",
    "version": 3
   },
   "file_extension": ".py",
   "mimetype": "text/x-python",
   "name": "python",
   "nbconvert_exporter": "python",
   "pygments_lexer": "ipython3",
   "version": "3.7.6"
  }
 },
 "nbformat": 4,
 "nbformat_minor": 4
}
